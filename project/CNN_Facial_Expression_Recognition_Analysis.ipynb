{
 "cells": [
  {
   "cell_type": "markdown",
   "metadata": {},
   "source": [
    "# Convolutional Neural Network (CNN) for Facial Expression Recognition\n",
    "## Alex Lauro\n",
    "## APMA 4990 - Intro to Data Science Industry"
   ]
  },
  {
   "cell_type": "code",
   "execution_count": 1,
   "metadata": {
    "collapsed": false
   },
   "outputs": [],
   "source": [
    "import numpy as np\n",
    "import pandas as pd \n",
    "import matplotlib.pyplot as plt\n",
    "import matplotlib.cm as cm\n",
    "import tensorflow as tf\n",
    "from PIL import Image\n",
    "from flask import Flask\n",
    "import pickle\n",
    "import seaborn\n",
    "%matplotlib inline"
   ]
  },
  {
   "cell_type": "code",
   "execution_count": 2,
   "metadata": {
    "collapsed": false
   },
   "outputs": [],
   "source": [
    "def image_to_grayscale_pixel_values(filepath):\n",
    "    \"\"\"\n",
    "    Converts an image given by *filepath* into a flattened array of pixel values.\n",
    "    The image is converted to grayscale format so pixel values range from 0-255 \n",
    "    (0 = black, 255 = white).\n",
    "    \n",
    "    Args:\n",
    "    *filepath* - file path containing image\n",
    "    \n",
    "    Output:\n",
    "    *flat_pixels_array* - flattened array of image pixels\n",
    "    \"\"\"\n",
    "    \n",
    "    # Convert image to 8-bit grayscale\n",
    "    img = Image.open(filepath).convert('L')  \n",
    "    #img.save('/Users/Alex/Desktop/greyscale.png')\n",
    "    \n",
    "    width, height = img.size\n",
    "    # Convert image data to a list of integers\n",
    "    pixels = list(img.getdata()) \n",
    "    # Convert that to 2D list (list of lists of integers)\n",
    "    pixels = [pixels[offset:offset + width] for offset in range(0, width * height, width)]\n",
    "    # Convert list of lists to flattened array\n",
    "    pixels_array = np.asarray(pixels)\n",
    "    flat_pixels_array = pixels_array.flatten()\n",
    "    return flat_pixels_array"
   ]
  },
  {
   "cell_type": "markdown",
   "metadata": {},
   "source": [
    "# Image Pre-Processing "
   ]
  },
  {
   "cell_type": "code",
   "execution_count": 3,
   "metadata": {
    "collapsed": false
   },
   "outputs": [
    {
     "data": {
      "text/html": [
       "<div>\n",
       "<table border=\"1\" class=\"dataframe\">\n",
       "  <thead>\n",
       "    <tr style=\"text-align: right;\">\n",
       "      <th></th>\n",
       "      <th>emotion</th>\n",
       "      <th>pixels</th>\n",
       "      <th>Usage</th>\n",
       "    </tr>\n",
       "  </thead>\n",
       "  <tbody>\n",
       "    <tr>\n",
       "      <th>0</th>\n",
       "      <td>0</td>\n",
       "      <td>70 80 82 72 58 58 60 63 54 58 60 48 89 115 121...</td>\n",
       "      <td>Training</td>\n",
       "    </tr>\n",
       "    <tr>\n",
       "      <th>1</th>\n",
       "      <td>0</td>\n",
       "      <td>151 150 147 155 148 133 111 140 170 174 182 15...</td>\n",
       "      <td>Training</td>\n",
       "    </tr>\n",
       "    <tr>\n",
       "      <th>2</th>\n",
       "      <td>2</td>\n",
       "      <td>231 212 156 164 174 138 161 173 182 200 106 38...</td>\n",
       "      <td>Training</td>\n",
       "    </tr>\n",
       "    <tr>\n",
       "      <th>3</th>\n",
       "      <td>4</td>\n",
       "      <td>24 32 36 30 32 23 19 20 30 41 21 22 32 34 21 1...</td>\n",
       "      <td>Training</td>\n",
       "    </tr>\n",
       "    <tr>\n",
       "      <th>4</th>\n",
       "      <td>6</td>\n",
       "      <td>4 0 0 0 0 0 0 0 0 0 0 0 3 15 23 28 48 50 58 84...</td>\n",
       "      <td>Training</td>\n",
       "    </tr>\n",
       "  </tbody>\n",
       "</table>\n",
       "</div>"
      ],
      "text/plain": [
       "   emotion                                             pixels     Usage\n",
       "0        0  70 80 82 72 58 58 60 63 54 58 60 48 89 115 121...  Training\n",
       "1        0  151 150 147 155 148 133 111 140 170 174 182 15...  Training\n",
       "2        2  231 212 156 164 174 138 161 173 182 200 106 38...  Training\n",
       "3        4  24 32 36 30 32 23 19 20 30 41 21 22 32 34 21 1...  Training\n",
       "4        6  4 0 0 0 0 0 0 0 0 0 0 0 3 15 23 28 48 50 58 84...  Training"
      ]
     },
     "execution_count": 3,
     "metadata": {},
     "output_type": "execute_result"
    }
   ],
   "source": [
    "df = pd.read_csv(\"/Users/Alex/Desktop/fer2013.csv\")\n",
    "df.head()"
   ]
  },
  {
   "cell_type": "code",
   "execution_count": 4,
   "metadata": {
    "collapsed": false
   },
   "outputs": [],
   "source": [
    "# Format testing image pixels into array\n",
    "train_data = df[df.Usage == \"Training\"]\n",
    "train_pixel_values = train_data.pixels.str.split(\" \").tolist()\n",
    "train_pixel_values = pd.DataFrame(train_pixel_values, dtype=int)\n",
    "images = train_pixel_values.values\n",
    "images = images.astype(np.float)"
   ]
  },
  {
   "cell_type": "code",
   "execution_count": 5,
   "metadata": {
    "collapsed": false
   },
   "outputs": [],
   "source": [
    "# Find mean and standard deviation of training image pixels and then standardize\n",
    "images = images - images.mean(axis=1).reshape(-1, 1)\n",
    "images = np.multiply(images, 100.0 / 255.0)\n",
    "pixel_mean = images.mean(axis=0)\n",
    "pixel_std = np.std(images, axis=0)\n",
    "images = np.divide(np.subtract(images, pixel_mean), pixel_std)"
   ]
  },
  {
   "cell_type": "code",
   "execution_count": 6,
   "metadata": {
    "collapsed": false
   },
   "outputs": [],
   "source": [
    "# Find height and width of images\n",
    "# Note this algorithm exploits the fact that the training images have equal height and width (i.e. 48x48)\n",
    "image_height = np.ceil(np.sqrt(images.shape[1])).astype(int)\n",
    "image_width = image_height"
   ]
  },
  {
   "cell_type": "code",
   "execution_count": 7,
   "metadata": {
    "collapsed": false
   },
   "outputs": [
    {
     "data": {
      "image/png": "[encoded data removed]",
      "text/plain": [
       "<matplotlib.figure.Figure at 0x1067810d0>"
      ]
     },
     "metadata": {},
     "output_type": "display_data"
    }
   ],
   "source": [
    "# Plot sample image\n",
    "sample_image = images[0]\n",
    "show_image = sample_image.reshape(image_width, image_height)\n",
    "plt.imshow(show_image, cmap='gray')\n",
    "plt.show()"
   ]
  },
  {
   "cell_type": "code",
   "execution_count": 8,
   "metadata": {
    "collapsed": false
   },
   "outputs": [],
   "source": [
    "emotions_flat = train_data[\"emotion\"].values.ravel()\n",
    "num_emotions = np.unique(emotions_flat).shape[0]\n",
    "\n",
    "# Method for transforming an array into a one-hot matrix\n",
    "#def array_to_one_hot(num_labels, target_array, dtype=int):\n",
    "#    return np.eye(num_labels)[target_array]\n",
    "\n",
    "def array_to_one_hot(emotions_dense, num_classes):\n",
    "    num_labels = emotions_dense.shape[0]\n",
    "    index_offset = np.arange(num_labels) * num_classes\n",
    "    emotions_one_hot = np.zeros((num_labels, num_classes))\n",
    "    emotions_one_hot.flat[index_offset + emotions_dense.ravel()] = 1\n",
    "    return emotions_one_hot\n",
    "\n",
    "emotions = array_to_one_hot(emotions_flat, num_emotions)\n",
    "emotions = emotions.astype(np.uint8)"
   ]
  },
  {
   "cell_type": "code",
   "execution_count": 9,
   "metadata": {
    "collapsed": true
   },
   "outputs": [],
   "source": [
    "# Split data into training and validation sets\n",
    "VALIDATION_PERCENT = 0.06\n",
    "VALIDATION_SIZE = np.ceil(VALIDATION_PERCENT * images.shape[0]).astype(int)\n",
    "\n",
    "validation_images = images[:VALIDATION_SIZE]\n",
    "validation_labels = emotions[:VALIDATION_SIZE]\n",
    "train_images = images[VALIDATION_SIZE:]\n",
    "train_labels = emotions[VALIDATION_SIZE:]"
   ]
  },
  {
   "cell_type": "code",
   "execution_count": 10,
   "metadata": {
    "collapsed": false
   },
   "outputs": [
    {
     "name": "stdout",
     "output_type": "stream",
     "text": [
      "Size of training data set: 26986\n",
      "Size of validation data set: 1723\n",
      "Total size: 28709\n"
     ]
    }
   ],
   "source": [
    "print 'Size of training data set: %d' % train_images.shape[0]\n",
    "print 'Size of validation data set: %d' % validation_images.shape[0]\n",
    "print 'Total size: %d' % (validation_images.shape[0] + train_images.shape[0])"
   ]
  },
  {
   "cell_type": "markdown",
   "metadata": {},
   "source": [
    "# CNN Implementation "
   ]
  },
  {
   "cell_type": "code",
   "execution_count": 11,
   "metadata": {
    "collapsed": true
   },
   "outputs": [],
   "source": [
    "K = 64 # First convolutional layer output depth\n",
    "L = 128 # Second convolutional layer output depth\n",
    "M = 3072 # Fully connected layer 1 depth\n",
    "\n",
    "# Images\n",
    "x = tf.placeholder('float', shape=[None, images.shape[1]])\n",
    "# Emotion labels\n",
    "y_ = tf.placeholder('float', shape=[None, num_emotions])\n",
    "\n",
    "image = tf.reshape(x, [-1, image_width , image_height, 1])"
   ]
  },
  {
   "cell_type": "code",
   "execution_count": 12,
   "metadata": {
    "collapsed": true
   },
   "outputs": [],
   "source": [
    "# First convolutional layer with depth 64 and 5x5 filter size\n",
    "w1 = tf.Variable(tf.truncated_normal([5, 5, 1, K], stddev=1e-4))\n",
    "b1 = tf.Variable(tf.constant(0.1, tf.float32, [K]))\n",
    "\n",
    "conv1 = tf.nn.relu(tf.nn.conv2d(image, w1, strides=[1, 1, 1, 1], padding=\"SAME\") + b1)\n",
    "pool1 = tf.nn.max_pool(conv1, ksize=[1, 3, 3, 1], strides=[1, 2, 2, 1], padding='SAME')\n",
    "norm1 = tf.nn.lrn(pool1, 4, bias=1.0, alpha=0.001/9.0, beta=0.75)"
   ]
  },
  {
   "cell_type": "code",
   "execution_count": 13,
   "metadata": {
    "collapsed": true
   },
   "outputs": [],
   "source": [
    "# Second convolutional layer with depth 128 and 5x5 filter size\n",
    "w2 = tf.Variable(tf.truncated_normal([5, 5, 64, L], stddev=1e-4))\n",
    "b2 = tf.Variable(tf.constant(0.1, tf.float32, [L]))\n",
    "\n",
    "conv2 = tf.nn.relu(tf.nn.conv2d(norm1, w2, strides=[1, 1, 1, 1], padding=\"SAME\") + b2)\n",
    "norm2 = tf.nn.lrn(conv2, 4, bias=1.0, alpha=0.001/9.0, beta=0.75)\n",
    "pool2 = tf.nn.max_pool(norm2, ksize=[1, 3, 3, 1], strides=[1, 2, 2, 1], padding='SAME')"
   ]
  },
  {
   "cell_type": "code",
   "execution_count": 14,
   "metadata": {
    "collapsed": true
   },
   "outputs": [],
   "source": [
    "# Fully connected layer 1\n",
    "w_fc1 = tf.Variable(tf.truncated_normal([12 * 12 * L, M], stddev=0.04))\n",
    "b_fc1 = tf.Variable(tf.constant(0.0, tf.float32, [M]))\n",
    "\n",
    "pool2_loc = tf.reshape(pool2, [-1, 12 * 12 * L])\n",
    "h_fc1 = tf.nn.relu(tf.matmul(pool2_loc, w_fc1) + b_fc1)"
   ]
  },
  {
   "cell_type": "code",
   "execution_count": 15,
   "metadata": {
    "collapsed": true
   },
   "outputs": [],
   "source": [
    "# Fully connected layer 2\n",
    "w_fc2 = tf.Variable(tf.truncated_normal([3072, 1536], stddev=0.04))\n",
    "b_fc2 = tf.Variable(tf.constant(0.0, tf.float32, [1536]))\n",
    "\n",
    "h_fc2_reshape = tf.reshape(h_fc1, [-1, 3072])\n",
    "h_fc2 = tf.nn.relu(tf.matmul(h_fc2_reshape, w_fc2) + b_fc2)"
   ]
  },
  {
   "cell_type": "code",
   "execution_count": 16,
   "metadata": {
    "collapsed": true
   },
   "outputs": [],
   "source": [
    "# Dropout\n",
    "keep_prob = tf.placeholder('float')\n",
    "h_fc2_drop = tf.nn.dropout(h_fc2, keep_prob)"
   ]
  },
  {
   "cell_type": "code",
   "execution_count": 17,
   "metadata": {
    "collapsed": true
   },
   "outputs": [],
   "source": [
    "# Final fully connected layer feeding into softmax classifier\n",
    "w_fc3 = tf.Variable(tf.truncated_normal([1536, num_emotions], stddev=0.04))\n",
    "b_fc3 = tf.Variable(tf.constant(0.0, tf.float32, [num_emotions]))\n",
    "\n",
    "y = tf.nn.softmax(tf.matmul(h_fc2_drop, w_fc3) + b_fc3)"
   ]
  },
  {
   "cell_type": "markdown",
   "metadata": {},
   "source": [
    "# Training CNN"
   ]
  },
  {
   "cell_type": "code",
   "execution_count": 18,
   "metadata": {
    "collapsed": true
   },
   "outputs": [],
   "source": [
    "# Optimization function parameter\n",
    "LEARNING_RATE = 1e-4\n",
    "\n",
    "# Cost function\n",
    "cross_entropy = -tf.reduce_sum(y_ * tf.log(y))\n",
    "\n",
    "# Optimization function minimizing cost function\n",
    "train_step = tf.train.AdamOptimizer(LEARNING_RATE).minimize(cross_entropy)\n",
    "\n",
    "# Evaluate accuracy\n",
    "correct_prediction = tf.equal(tf.argmax(y, 1), tf.argmax(y_, 1))\n",
    "accuracy = tf.reduce_mean(tf.cast(correct_prediction, 'float'))\n",
    "\n",
    "# Prediction function\n",
    "predict = tf.argmax(y, 1)"
   ]
  },
  {
   "cell_type": "code",
   "execution_count": 19,
   "metadata": {
    "collapsed": true
   },
   "outputs": [],
   "source": [
    "TRAINING_ITERATIONS = 3000\n",
    "    \n",
    "DROPOUT = 0.5\n",
    "BATCH_SIZE = 50"
   ]
  },
  {
   "cell_type": "code",
   "execution_count": 20,
   "metadata": {
    "collapsed": true
   },
   "outputs": [],
   "source": [
    "epochs_completed = 0\n",
    "index_in_epoch = 0\n",
    "num_examples = train_images.shape[0]\n",
    "\n",
    "# Serve data by batches\n",
    "def next_batch(batch_size):\n",
    "    \n",
    "    global train_images\n",
    "    global train_labels\n",
    "    global index_in_epoch\n",
    "    global epochs_completed\n",
    "    \n",
    "    start = index_in_epoch\n",
    "    index_in_epoch += batch_size\n",
    "    \n",
    "    # When all trainig data have been already used, reorder randomly    \n",
    "    if index_in_epoch > num_examples:\n",
    "        # Finished epoch\n",
    "        epochs_completed += 1\n",
    "        # Shuffle the data\n",
    "        perm = np.arange(num_examples)\n",
    "        np.random.shuffle(perm)\n",
    "        train_images = train_images[perm]\n",
    "        train_labels = train_labels[perm]\n",
    "        # Start next epoch\n",
    "        start = 0\n",
    "        index_in_epoch = batch_size\n",
    "        assert batch_size <= num_examples\n",
    "    end = index_in_epoch\n",
    "    return train_images[start:end], train_labels[start:end]"
   ]
  },
  {
   "cell_type": "code",
   "execution_count": 21,
   "metadata": {
    "collapsed": true
   },
   "outputs": [],
   "source": [
    "# Start TensorFlow session\n",
    "init = tf.initialize_all_variables()\n",
    "sess = tf.InteractiveSession()\n",
    "\n",
    "sess.run(init)"
   ]
  },
  {
   "cell_type": "code",
   "execution_count": 22,
   "metadata": {
    "collapsed": true
   },
   "outputs": [],
   "source": [
    "# Variables to be printed \n",
    "train_accuracies = []\n",
    "validation_accuracies = []\n",
    "x_range = []\n",
    "\n",
    "display_step = 1"
   ]
  },
  {
   "cell_type": "code",
   "execution_count": 23,
   "metadata": {
    "collapsed": false
   },
   "outputs": [
    {
     "name": "stdout",
     "output_type": "stream",
     "text": [
      "training_accuracy / validation_accuracy => 0.18 / 0.22 for step 0\n",
      "training_accuracy / validation_accuracy => 0.36 / 0.24 for step 1\n",
      "training_accuracy / validation_accuracy => 0.12 / 0.18 for step 2\n",
      "training_accuracy / validation_accuracy => 0.18 / 0.22 for step 3\n",
      "training_accuracy / validation_accuracy => 0.10 / 0.08 for step 4\n",
      "training_accuracy / validation_accuracy => 0.18 / 0.24 for step 5\n",
      "training_accuracy / validation_accuracy => 0.26 / 0.24 for step 6\n",
      "training_accuracy / validation_accuracy => 0.22 / 0.24 for step 7\n",
      "training_accuracy / validation_accuracy => 0.20 / 0.24 for step 8\n",
      "training_accuracy / validation_accuracy => 0.16 / 0.18 for step 9\n",
      "training_accuracy / validation_accuracy => 0.18 / 0.18 for step 10\n",
      "training_accuracy / validation_accuracy => 0.08 / 0.10 for step 20\n",
      "training_accuracy / validation_accuracy => 0.24 / 0.24 for step 30\n",
      "training_accuracy / validation_accuracy => 0.26 / 0.24 for step 40\n",
      "training_accuracy / validation_accuracy => 0.20 / 0.24 for step 50\n",
      "training_accuracy / validation_accuracy => 0.20 / 0.24 for step 60\n",
      "training_accuracy / validation_accuracy => 0.24 / 0.24 for step 70\n",
      "training_accuracy / validation_accuracy => 0.26 / 0.32 for step 80\n",
      "training_accuracy / validation_accuracy => 0.18 / 0.24 for step 90\n",
      "training_accuracy / validation_accuracy => 0.20 / 0.22 for step 100\n",
      "training_accuracy / validation_accuracy => 0.22 / 0.38 for step 200\n",
      "training_accuracy / validation_accuracy => 0.34 / 0.38 for step 300\n",
      "training_accuracy / validation_accuracy => 0.32 / 0.34 for step 400\n",
      "training_accuracy / validation_accuracy => 0.38 / 0.36 for step 500\n",
      "training_accuracy / validation_accuracy => 0.30 / 0.34 for step 600\n",
      "training_accuracy / validation_accuracy => 0.28 / 0.40 for step 700\n",
      "training_accuracy / validation_accuracy => 0.56 / 0.46 for step 800\n",
      "training_accuracy / validation_accuracy => 0.44 / 0.48 for step 900\n",
      "training_accuracy / validation_accuracy => 0.54 / 0.52 for step 1000\n",
      "training_accuracy / validation_accuracy => 0.46 / 0.46 for step 1100\n",
      "training_accuracy / validation_accuracy => 0.60 / 0.48 for step 1200\n",
      "training_accuracy / validation_accuracy => 0.38 / 0.48 for step 1300\n",
      "training_accuracy / validation_accuracy => 0.38 / 0.52 for step 1400\n",
      "training_accuracy / validation_accuracy => 0.46 / 0.48 for step 1500\n",
      "training_accuracy / validation_accuracy => 0.54 / 0.46 for step 1600\n",
      "training_accuracy / validation_accuracy => 0.34 / 0.58 for step 1700\n",
      "training_accuracy / validation_accuracy => 0.56 / 0.58 for step 1800\n",
      "training_accuracy / validation_accuracy => 0.60 / 0.58 for step 1900\n",
      "training_accuracy / validation_accuracy => 0.52 / 0.52 for step 2000\n",
      "training_accuracy / validation_accuracy => 0.56 / 0.60 for step 2100\n",
      "training_accuracy / validation_accuracy => 0.56 / 0.54 for step 2200\n",
      "training_accuracy / validation_accuracy => 0.56 / 0.62 for step 2300\n",
      "training_accuracy / validation_accuracy => 0.50 / 0.60 for step 2400\n",
      "training_accuracy / validation_accuracy => 0.54 / 0.56 for step 2500\n",
      "training_accuracy / validation_accuracy => 0.56 / 0.56 for step 2600\n",
      "training_accuracy / validation_accuracy => 0.74 / 0.60 for step 2700\n",
      "training_accuracy / validation_accuracy => 0.70 / 0.64 for step 2800\n",
      "training_accuracy / validation_accuracy => 0.78 / 0.52 for step 2900\n",
      "training_accuracy / validation_accuracy => 0.80 / 0.56 for step 2999\n"
     ]
    }
   ],
   "source": [
    "for i in range(TRAINING_ITERATIONS):\n",
    "    \n",
    "    # Get new batch\n",
    "    batch_xs, batch_ys = next_batch(BATCH_SIZE)        \n",
    "\n",
    "    # Check progress on every 1st, 2nd, ..., 10th, 20th, ..., 100th... step\n",
    "    if i%display_step == 0 or (i+1) == TRAINING_ITERATIONS:\n",
    "        \n",
    "        train_accuracy = accuracy.eval(feed_dict = {x:batch_xs, y_:batch_ys, keep_prob:1.0})               \n",
    "        \n",
    "        if(VALIDATION_SIZE):\n",
    "            validation_accuracy = accuracy.eval(feed_dict={x: validation_images[0:BATCH_SIZE], \n",
    "                                                            y_: validation_labels[0:BATCH_SIZE], \n",
    "                                                            keep_prob: 1.0})                                  \n",
    "            print 'training_accuracy / validation_accuracy => %.2f / %.2f for step %d'%(train_accuracy, validation_accuracy, i)\n",
    "            \n",
    "            validation_accuracies.append(validation_accuracy)\n",
    "            \n",
    "        else:\n",
    "             print 'training_accuracy => %.4f for step %d'%(train_accuracy, i)\n",
    "        train_accuracies.append(train_accuracy)\n",
    "        x_range.append(i)\n",
    "        \n",
    "        # Increase display_step\n",
    "        if i%(display_step*10) == 0 and i and display_step < 100:\n",
    "            display_step *= 10\n",
    "    \n",
    "    # Train on batch\n",
    "    sess.run(train_step, feed_dict={x: batch_xs, y_: batch_ys, keep_prob: DROPOUT})\n",
    "    \n",
    "    # Save final values of convolutional layer weights and biases\n",
    "    val_w1 = sess.run(w1)\n",
    "    val_w2 = sess.run(w2)\n",
    "    \n",
    "    val_b1 = sess.run(b1)\n",
    "    val_b2 = sess.run(b2)\n",
    "    \n",
    "    val_w_fc1 = sess.run(w_fc1)\n",
    "    val_w_fc2 = sess.run(w_fc2)\n",
    "    val_w_fc3 = sess.run(w_fc3)\n",
    "    \n",
    "    val_b_fc1 = sess.run(b_fc1)\n",
    "    val_b_fc2 = sess.run(b_fc2)\n",
    "    val_b_fc3 = sess.run(b_fc3)"
   ]
  },
  {
   "cell_type": "code",
   "execution_count": 24,
   "metadata": {
    "collapsed": false
   },
   "outputs": [
    {
     "name": "stdout",
     "output_type": "stream",
     "text": [
      "Validation Accuracy: 0.5102\n"
     ]
    },
    {
     "data": {
      "image/png": "[encoded data removed]",
      "text/plain": [
       "<matplotlib.figure.Figure at 0x117e7c810>"
      ]
     },
     "metadata": {},
     "output_type": "display_data"
    }
   ],
   "source": [
    "# Plot accuracy of training and validation sets\n",
    "validation_accuracy = accuracy.eval(feed_dict={x: validation_images, y_: validation_labels, keep_prob: 1.0})\n",
    "print 'Validation Accuracy: %.4f' % validation_accuracy\n",
    "plt.plot(x_range, train_accuracies, '-b', label='Training')\n",
    "plt.plot(x_range, validation_accuracies, '-g', label='Validation')\n",
    "plt.legend(loc=2)\n",
    "plt.ylim(ymax = 1.0)\n",
    "plt.ylabel('Accuracy')\n",
    "plt.xlabel('Step')\n",
    "plt.show()"
   ]
  },
  {
   "cell_type": "markdown",
   "metadata": {},
   "source": [
    "# Testing CNN"
   ]
  },
  {
   "cell_type": "code",
   "execution_count": 25,
   "metadata": {
    "collapsed": true
   },
   "outputs": [],
   "source": [
    "import seaborn \n",
    "from sklearn.metrics import accuracy_score\n",
    "from sklearn.metrics import confusion_matrix\n",
    "import itertools"
   ]
  },
  {
   "cell_type": "code",
   "execution_count": 26,
   "metadata": {
    "collapsed": false
   },
   "outputs": [
    {
     "data": {
      "text/html": [
       "<div>\n",
       "<table border=\"1\" class=\"dataframe\">\n",
       "  <thead>\n",
       "    <tr style=\"text-align: right;\">\n",
       "      <th></th>\n",
       "      <th>emotion</th>\n",
       "      <th>pixels</th>\n",
       "      <th>Usage</th>\n",
       "    </tr>\n",
       "  </thead>\n",
       "  <tbody>\n",
       "    <tr>\n",
       "      <th>28709</th>\n",
       "      <td>0</td>\n",
       "      <td>254 254 254 254 254 249 255 160 2 58 53 70 77 ...</td>\n",
       "      <td>PublicTest</td>\n",
       "    </tr>\n",
       "    <tr>\n",
       "      <th>28710</th>\n",
       "      <td>1</td>\n",
       "      <td>156 184 198 202 204 207 210 212 213 214 215 21...</td>\n",
       "      <td>PublicTest</td>\n",
       "    </tr>\n",
       "    <tr>\n",
       "      <th>28711</th>\n",
       "      <td>4</td>\n",
       "      <td>69 118 61 60 96 121 103 87 103 88 70 90 115 12...</td>\n",
       "      <td>PublicTest</td>\n",
       "    </tr>\n",
       "    <tr>\n",
       "      <th>28712</th>\n",
       "      <td>6</td>\n",
       "      <td>205 203 236 157 83 158 120 116 94 86 155 180 2...</td>\n",
       "      <td>PublicTest</td>\n",
       "    </tr>\n",
       "    <tr>\n",
       "      <th>28713</th>\n",
       "      <td>3</td>\n",
       "      <td>87 79 74 66 74 96 77 80 80 84 83 89 102 91 84 ...</td>\n",
       "      <td>PublicTest</td>\n",
       "    </tr>\n",
       "  </tbody>\n",
       "</table>\n",
       "</div>"
      ],
      "text/plain": [
       "       emotion                                             pixels       Usage\n",
       "28709        0  254 254 254 254 254 249 255 160 2 58 53 70 77 ...  PublicTest\n",
       "28710        1  156 184 198 202 204 207 210 212 213 214 215 21...  PublicTest\n",
       "28711        4  69 118 61 60 96 121 103 87 103 88 70 90 115 12...  PublicTest\n",
       "28712        6  205 203 236 157 83 158 120 116 94 86 155 180 2...  PublicTest\n",
       "28713        3  87 79 74 66 74 96 77 80 80 84 83 89 102 91 84 ...  PublicTest"
      ]
     },
     "execution_count": 26,
     "metadata": {},
     "output_type": "execute_result"
    }
   ],
   "source": [
    "test_data = df[df.Usage == \"PublicTest\"]\n",
    "test_data.head()"
   ]
  },
  {
   "cell_type": "code",
   "execution_count": 27,
   "metadata": {
    "collapsed": false
   },
   "outputs": [
    {
     "name": "stdout",
     "output_type": "stream",
     "text": [
      "Number of testing images: 3589\n"
     ]
    }
   ],
   "source": [
    "print 'Number of testing images: %i' % len(test_data)"
   ]
  },
  {
   "cell_type": "code",
   "execution_count": 28,
   "metadata": {
    "collapsed": true
   },
   "outputs": [],
   "source": [
    "# Format testing image pixels into array\n",
    "test_pixel_values = test_data.pixels.str.split(\" \").tolist()\n",
    "test_pixel_values = pd.DataFrame(test_pixel_values, dtype=int)\n",
    "test_images = test_pixel_values.values\n",
    "test_images = test_images.astype(np.float)"
   ]
  },
  {
   "cell_type": "code",
   "execution_count": 29,
   "metadata": {
    "collapsed": false
   },
   "outputs": [],
   "source": [
    "# Standardization of image pixels\n",
    "test_images = test_images - test_images.mean(axis=1).reshape(-1, 1)\n",
    "test_images = np.multiply(test_images, 100.0 / 255.0)\n",
    "test_images = np.divide(np.subtract(test_images, pixel_mean), pixel_std)"
   ]
  },
  {
   "cell_type": "code",
   "execution_count": 30,
   "metadata": {
    "collapsed": false
   },
   "outputs": [],
   "source": [
    "# Run CNN model on test images\n",
    "predicted_labels = np.zeros(test_images.shape[0])\n",
    "\n",
    "for i in range(0, test_images.shape[0] // BATCH_SIZE):\n",
    "    predicted_labels[i*BATCH_SIZE : (i+1)*BATCH_SIZE] = predict.eval(feed_dict={x: test_images[i*BATCH_SIZE : (i+1)*BATCH_SIZE], keep_prob: 1.0})"
   ]
  },
  {
   "cell_type": "code",
   "execution_count": 31,
   "metadata": {
    "collapsed": false
   },
   "outputs": [
    {
     "name": "stdout",
     "output_type": "stream",
     "text": [
      "Accuracy score: 0.5040\n"
     ]
    }
   ],
   "source": [
    "accuracy = accuracy_score(test_data.emotion.values, predicted_labels)\n",
    "print 'Accuracy score: %.4f' % accuracy"
   ]
  },
  {
   "cell_type": "code",
   "execution_count": 32,
   "metadata": {
    "collapsed": false
   },
   "outputs": [],
   "source": [
    "conf_matrix = confusion_matrix(test_data.emotion.values, predicted_labels)\n",
    "\n",
    "def plot_confusion_matrix(cm, labels, normalize=False, cmap=plt.cm.Blues):\n",
    "    \"\"\"\n",
    "    Plots the confusion matrix for test images.\n",
    "    \n",
    "    Args:\n",
    "    *cm* - confusion matrix 2d array\n",
    "    *labels* - array of emotion labels\n",
    "    *normalize* - boolean value that normalizes matrix when normalize=True\n",
    "    *cmap* - color map\n",
    "    \n",
    "    Output:\n",
    "    Plots the confusion matrix for test images\n",
    "    \"\"\"\n",
    "    \n",
    "    plt.imshow(cm, interpolation='nearest', cmap=cmap)\n",
    "    plt.title('Confusion Matrix for Test Images')\n",
    "    plt.colorbar()\n",
    "    tick_marks = np.arange(len(labels))\n",
    "    plt.xticks(tick_marks, labels, rotation=45)\n",
    "    plt.yticks(tick_marks, labels)\n",
    "\n",
    "    if normalize:\n",
    "        cm = cm.astype('float') / cm.sum(axis=1)[:, np.newaxis]\n",
    "        print(\"Normalized confusion matrix\")\n",
    "    else:\n",
    "        print('Confusion matrix, without normalization')\n",
    "\n",
    "    print(cm)\n",
    "\n",
    "    thresh = cm.max() / 2.0\n",
    "    for i, j in itertools.product(range(cm.shape[0]), range(cm.shape[1])):\n",
    "        plt.text(j, i, int(cm[i, j]*100)/100.0,\n",
    "                 horizontalalignment=\"center\",\n",
    "                 color=\"white\" if cm[i, j] > thresh else \"black\")\n",
    "\n",
    "    plt.tight_layout()\n",
    "    plt.ylabel('True label')\n",
    "    plt.xlabel('Predicted label')\n",
    "\n",
    "emotion_labels = ['Anger', 'Disgust', 'Fear', 'Happiness', 'Sadness', 'Surprise', 'Neutral']"
   ]
  },
  {
   "cell_type": "code",
   "execution_count": 33,
   "metadata": {
    "collapsed": false
   },
   "outputs": [
    {
     "name": "stdout",
     "output_type": "stream",
     "text": [
      "Confusion matrix, without normalization\n",
      "[[248   4  30  66  43  11  65]\n",
      " [ 20  18   1   6   5   1   5]\n",
      " [104   1 132  69  78  43  69]\n",
      " [ 87   0  19 660  50  15  64]\n",
      " [141   0  40 121 236  15 100]\n",
      " [ 41   1  42  35  17 251  28]\n",
      " [106   2  29 111  84  11 264]]\n"
     ]
    },
    {
     "data": {
      "image/png": "[encoded data removed]",
      "text/plain": [
       "<matplotlib.figure.Figure at 0x118486cd0>"
      ]
     },
     "metadata": {},
     "output_type": "display_data"
    }
   ],
   "source": [
    "plot_confusion_matrix(conf_matrix, emotion_labels, normalize=False)\n",
    "plt.show()"
   ]
  },
  {
   "cell_type": "code",
   "execution_count": 34,
   "metadata": {
    "collapsed": false
   },
   "outputs": [],
   "source": [
    "# Pickle weights and biases from trained CNN\n",
    "\n",
    "fileObject1 = open(\"val_w1\", 'wb')\n",
    "pickle.dump(val_w1, fileObject1)\n",
    "fileObject1.close()\n",
    "\n",
    "fileObject2 = open(\"val_w2\", 'wb')\n",
    "pickle.dump(val_w2, fileObject2)\n",
    "fileObject2.close()\n",
    "\n",
    "fileObject3 = open(\"val_b1\", 'wb')\n",
    "pickle.dump(val_b1, fileObject3)\n",
    "fileObject3.close()\n",
    "\n",
    "fileObject4 = open(\"val_b2\", 'wb')\n",
    "pickle.dump(val_b2, fileObject4)\n",
    "fileObject4.close()\n",
    "\n",
    "fileObject5 = open(\"val_w_fc1\", 'wb')\n",
    "pickle.dump(val_w_fc1, fileObject5)\n",
    "fileObject5.close()\n",
    "\n",
    "fileObject6 = open(\"val_w_fc2\", 'wb')\n",
    "pickle.dump(val_w_fc2, fileObject6)\n",
    "fileObject6.close()\n",
    "\n",
    "fileObject7 = open(\"val_w_fc3\", 'wb')\n",
    "pickle.dump(val_w_fc3, fileObject7)\n",
    "fileObject7.close()\n",
    "\n",
    "fileObject8 = open(\"val_b_fc1\", 'wb')\n",
    "pickle.dump(val_b_fc1, fileObject8)\n",
    "fileObject8.close()\n",
    "\n",
    "fileObject9 = open(\"val_b_fc2\", 'wb')\n",
    "pickle.dump(val_b_fc2, fileObject9)\n",
    "fileObject9.close()\n",
    "\n",
    "fileObject10 = open(\"val_b_fc3\", 'wb')\n",
    "pickle.dump(val_b_fc3, fileObject10)\n",
    "fileObject10.close()\n",
    "\n",
    "# Also pickle mean and standard deviation of testing images\n",
    "fileObject11 = open(\"pixel_mean\", 'wb')\n",
    "pickle.dump(pixel_mean, fileObject11)\n",
    "fileObject11.close() \n",
    "\n",
    "fileObject12 = open(\"pixel_std\", 'wb')\n",
    "pickle.dump(pixel_std, fileObject12)\n",
    "fileObject12.close() "
   ]
  },
  {
   "cell_type": "code",
   "execution_count": null,
   "metadata": {
    "collapsed": true
   },
   "outputs": [],
   "source": []
  }
 ],
 "metadata": {
  "kernelspec": {
   "display_name": "Python 2",
   "language": "python",
   "name": "python2"
  },
  "language_info": {
   "codemirror_mode": {
    "name": "ipython",
    "version": 2
   },
   "file_extension": ".py",
   "mimetype": "text/x-python",
   "name": "python",
   "nbconvert_exporter": "python",
   "pygments_lexer": "ipython2",
   "version": "2.7.9"
  }
 },
 "nbformat": 4,
 "nbformat_minor": 2
}

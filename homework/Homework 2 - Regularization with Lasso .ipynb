{
 "cells": [
  {
   "cell_type": "markdown",
   "metadata": {},
   "source": [
    "# Introduction\n",
    "\n",
    "\n",
    "In this homework, you'll be required to load in a dataset which has about 500 features. By using\n",
    "Lasso ($L^1$) regression, we'll find the optimal constraint on the $L^1$ norm which gives us the best\n",
    "$R^2$. Then we'll plot the results.\n",
    "\n",
    "Recall we minimize the following on ** training data: $(x_i,y_i)$**\n",
    "\n",
    "$$\\min_{\\beta} \\frac{1}{N} \\sum_{i=1}^N (y_i - \\beta \\cdot x_i)^2 + \\lambda \\|\\beta \\|_{L^1}.$$\n",
    "\n",
    "\n",
    "Denoting $\\beta_{\\lambda}$ as the minimum of the above, we then choose $\\lambda$ to maximize $R^2$ on **testing data: $(x_j,y_j)$**\n",
    "\n",
    "$$ \\max_{\\lambda} 1 - \\frac{\\sum_{j} (y_j - \\beta_{\\lambda} \\cdot x_j)^2}{\\sum_j (y_j - \\bar y)^2}$$\n"
   ]
  },
  {
   "cell_type": "markdown",
   "metadata": {},
   "source": [
    "# Lasso Regularization"
   ]
  },
  {
   "cell_type": "markdown",
   "metadata": {},
   "source": [
    "## Problem 1"
   ]
  },
  {
   "cell_type": "markdown",
   "metadata": {},
   "source": [
    "a) Load in hw2data.csv from ../data into a pandas dataframe."
   ]
  },
  {
   "cell_type": "markdown",
   "metadata": {},
   "source": [
    "b) Set y to be the y variable in the dataframe from a and X to be the remaining features."
   ]
  },
  {
   "cell_type": "markdown",
   "metadata": {},
   "source": [
    "c) As shown in the Booking.com example, using Lasso regression, find the regularization strength\n",
    "which optimizes the $R^2$. \n",
    "\n",
    "**Hint:** Take a range of alpha from `np.logspace(-8,-3,1000)`"
   ]
  },
  {
   "cell_type": "markdown",
   "metadata": {},
   "source": [
    "d) Plot the training performance versus the testing performance, and observe whree the test performance is\n",
    "maximized. I've written an outline of the code you need."
   ]
  },
  {
   "cell_type": "code",
   "execution_count": 7,
   "metadata": {
    "collapsed": false
   },
   "outputs": [
    {
     "name": "stdout",
     "output_type": "stream",
     "text": [
      "Optimal regularization parameter: 0.103396837027\n"
     ]
    },
    {
     "data": {
      "image/png": "[encoded data removed]",
      "text/plain": [
       "<matplotlib.figure.Figure at 0x106c6bc50>"
      ]
     },
     "metadata": {},
     "output_type": "display_data"
    }
   ],
   "source": [
    "import matplotlib.pyplot as plt\n",
    "import numpy as np\n",
    "import pandas as pd\n",
    "from sklearn.linear_model import Lasso\n",
    "from sklearn.model_selection import train_test_split\n",
    "from sklearn import preprocessing\n",
    "from sklearn.model_selection import cross_val_score\n",
    "%matplotlib inline\n",
    "\n",
    "df = pd.read_csv(\"/Users/Alex/Desktop/School/Columbia/APMA 4990/HW2/data/hw2data.csv\", index_col=0, header=0)\n",
    "df.head()\n",
    "\n",
    "y = df['y']\n",
    "X = df.drop(['y'], 1)\n",
    "\n",
    "# Standardize coefficients\n",
    "X = preprocessing.StandardScaler().fit_transform(X)\n",
    "\n",
    "# Split the data and targets into training and testing sets\n",
    "X_train, X_test, y_train, y_test = train_test_split(X, y, test_size=0.2, random_state=42)\n",
    "\n",
    "alphas = np.logspace(-8, 1, 2000)\n",
    "train_errors = []\n",
    "test_errors = []\n",
    "alpha_optim = 0.0\n",
    "\n",
    "for alpha in alphas:\n",
    "    regr = Lasso(alpha=alpha)\n",
    "    \n",
    "    # Train the model using the training sets\n",
    "    regr.fit(X_train, y_train)\n",
    "    train_errors.append(regr.score(X_train, y_train))\n",
    "    test_errors.append(regr.score(X_test, y_test))\n",
    "\n",
    "# Choose the optimal alpha which maximizes testing performance \n",
    "alpha_optim = np.argmax(test_errors)\n",
    "alpha_optim = alphas[alpha_optim]\n",
    "print \"Optimal regularization parameter: %s\" % alpha_optim\n",
    "    \n",
    "plt.subplot(2, 1, 1)\n",
    "plt.semilogx(alphas, train_errors, label='Train')\n",
    "plt.semilogx(alphas, test_errors, label='Test')\n",
    "plt.vlines(alpha_optim, plt.ylim()[0], np.max(test_errors), color='k', linewidth=3, label='Optimum on test')\n",
    "plt.legend(loc='lower left')\n",
    "plt.ylim([0, 1.2])\n",
    "plt.xlabel('Regularization parameter')\n",
    "plt.ylabel('Performance')\n",
    "\n",
    "plt.show()"
   ]
  },
  {
   "cell_type": "markdown",
   "metadata": {},
   "source": [
    "**Note**\n",
    "\n",
    "For some reason, the above cell gives an error when run the first time. Please run the cell a second time and the plot will appear. The cell can take up 20 seconds to fully load."
   ]
  },
  {
   "cell_type": "markdown",
   "metadata": {},
   "source": [
    "e) Plot the top coefficients based on this optimal parameter. Why do you think so many are zero? "
   ]
  },
  {
   "cell_type": "code",
   "execution_count": 29,
   "metadata": {
    "collapsed": false
   },
   "outputs": [
    {
     "name": "stdout",
     "output_type": "stream",
     "text": [
      "Coefficients of Lasso regression using the optimal regularization parameter: \n",
      "\n",
      " [ 0.37465361  0.36751686  1.64812232  1.43001534 -0.36945602  1.07904143\n",
      " -0.          0.          0.31686525  0.          0.98596167  0.54675028\n",
      " -0.          0.14538017  0.          1.5688592  -0.          0.\n",
      " -0.81493581 -2.76437943  0.4350006   0.68509074 -0.77882481  1.64300858\n",
      " -0.66240564 -0.         -0.00505711  1.27925899  0.39678674  0.29100037\n",
      "  0.21410499 -0.29118251 -1.9435405   0.         -0.          0.54573182\n",
      "  0.82758168 -0.22034122 -0.03610383 -0.52119802 -1.36488211 -1.4316601\n",
      "  1.49291109 -0.49493952 -0.22210991 -0.71351799  0.53511859 -1.5249489  -0.\n",
      "  0.          0.          0.         -0.          0.         -0.         -0.\n",
      "  0.         -0.         -0.          0.          0.         -0.         -0.\n",
      "  0.          0.00888124  0.         -0.         -0.         -0.\n",
      " -0.01451559  0.         -0.         -0.07092532  0.         -0.04850823\n",
      " -0.         -0.         -0.          0.          0.02740302 -0.\n",
      "  0.19562149  0.          0.         -0.03014014  0.         -0.\n",
      " -0.06203437 -0.         -0.         -0.         -0.          0.\n",
      "  0.01801769 -0.          0.          0.          0.1429639  -0.          0.\n",
      "  0.          0.          0.         -0.         -0.          0.1460071\n",
      " -0.07242661 -0.          0.          0.12251188 -0.         -0.\n",
      " -0.08762544  0.         -0.          0.          0.03502889  0.          0.\n",
      " -0.          0.         -0.          0.         -0.          0.         -0.\n",
      " -0.          0.         -0.23838218 -0.01267888  0.         -0.         -0.\n",
      "  0.         -0.          0.          0.         -0.          0.22498703\n",
      "  0.         -0.         -0.         -0.         -0.          0.08721911\n",
      "  0.30332804 -0.          0.          0.19465329 -0.         -0.\n",
      "  0.05519295  0.          0.38181493  0.         -0.          0.         -0.\n",
      " -0.         -0.          0.         -0.          0.         -0.\n",
      " -0.06952442 -0.          0.         -0.08154083 -0.          0.         -0.\n",
      "  0.          0.         -0.         -0.         -0.          0.         -0.\n",
      "  0.          0.          0.          0.          0.         -0.          0.\n",
      " -0.          0.         -0.          0.         -0.          0.          0.\n",
      "  0.          0.         -0.          0.          0.         -0.          0.\n",
      " -0.         -0.         -0.         -0.          0.         -0.         -0.\n",
      "  0.          0.         -0.          0.          0.          0.         -0.\n",
      "  0.         -0.         -0.          0.         -0.08898929 -0.0801728   0.\n",
      "  0.          0.         -0.          0.         -0.          0.          0.\n",
      "  0.34858284 -0.         -0.          0.         -0.24725975 -0.          0.\n",
      "  0.         -0.          0.          0.         -0.         -0.\n",
      " -0.24560289 -0.          0.          0.13622462  0.          0.\n",
      "  0.32029986 -0.          0.          0.          0.          0.30612425\n",
      " -0.00571133  0.         -0.         -0.31724974 -0.02437992 -0.          0.\n",
      " -0.         -0.          0.01123581  0.         -0.          0.         -0.\n",
      "  0.          0.          0.         -0.          0.          0.         -0.\n",
      "  0.          0.19670414 -0.02663833  0.          0.          0.09921636\n",
      "  0.         -0.19732808  0.          0.          0.05397205  0.          0.\n",
      "  0.          0.         -0.          0.04053815 -0.          0.         -0.\n",
      "  0.          0.          0.          0.         -0.03885618 -0.          0.0943448\n",
      "  0.         -0.35832401 -0.         -0.         -0.          0.01299768\n",
      "  0.         -0.07804717 -0.         -0.         -0.         -0.1079128   0.\n",
      " -0.27943912  0.         -0.13512277  0.32569315 -0.          0.         -0.\n",
      " -0.          0.          0.         -0.          0.21683088 -0.         -0.\n",
      "  0.         -0.         -0.          0.         -0.          0.         -0.\n",
      " -0.          0.04098109 -0.          0.         -0.         -0.          0.\n",
      " -0.          0.          0.          0.          0.          0.\n",
      " -0.02961845  0.         -0.          0.         -0.01638153 -0.          0.\n",
      " -0.          0.         -0.05735892  0.          0.          0.          0.\n",
      " -0.          0.          0.35263836 -0.          0.10054522  0.         -0.\n",
      "  0.10158959  0.25244458  0.15789023 -0.16028204  0.0562359   0.          0.\n",
      "  0.          0.          0.         -0.09361251  0.          0.09358357\n",
      " -0.         -0.          0.          0.          0.11907707  0.11934979\n",
      " -0.          0.         -0.         -0.         -0.         -0.         -0.\n",
      " -0.0084964  -0.         -0.06858467 -0.          0.         -0.          0.\n",
      " -0.          0.14253498  0.         -0.11226013  0.         -0.14802675\n",
      " -0.         -0.         -0.         -0.          0.          0.         -0.\n",
      "  0.         -0.         -0.         -0.          0.12537651  0.\n",
      "  0.07671377 -0.          0.          0.          0.          0.          0.\n",
      "  0.         -0.          0.         -0.          0.          0.06064323\n",
      " -0.04449656  0.         -0.         -0.          0.         -0.01523302\n",
      "  0.         -0.         -0.          0.          0.03231426 -0.07017944\n",
      " -0.         -0.          0.12935485 -0.         -0.         -0.         -0.\n",
      "  0.         -0.         -0.         -0.          0.         -0.21854796\n",
      " -0.05008352 -0.         -0.         -0.         -0.         -0.\n",
      "  0.11145133  0.35884085 -0.         -0.          0.02299723  0.          0.\n",
      "  0.         -0.          0.         -0.          0.          0.          0.\n",
      "  0.          0.23587949 -0.         -0.         -0.          0.          0.\n",
      "  0.          0.         -0.          0.         -0.          0.         -0.\n",
      "  0.         -0.06450206 -0.         -0.21747953 -0.          0.         -0.        ]\n",
      "\n",
      "Ten largest positive coefficients: \n",
      "\n",
      " [0.68509074475023257, 0.8275816758352651, 0.98596166806391716, 1.0790414279967733, 1.2792589900086255, 1.4300153373250073, 1.4929110904538201, 1.5688592029469666, 1.6430085781990547, 1.6481223235870515]\n",
      "\n",
      "Ten largest negative coefficients: \n",
      "\n",
      " [-2.7643794334498795, -1.9435405048105132, -1.5249489034712684, -1.4316601044555628, -1.3648821056630627, -0.81493581370331003, -0.77882480646584307, -0.71351799297192353, -0.66240564260538892, -0.52119802179270813]\n"
     ]
    },
    {
     "name": "stderr",
     "output_type": "stream",
     "text": [
      "/Users/Alex/Library/Enthought/Canopy_64bit/User/lib/python2.7/site-packages/ipykernel/__main__.py:7: FutureWarning: sort(columns=....) is deprecated, use sort_values(by=.....)\n"
     ]
    },
    {
     "data": {
      "image/png": "[encoded data removed]",
      "text/plain": [
       "<matplotlib.figure.Figure at 0x1192f2f10>"
      ]
     },
     "metadata": {},
     "output_type": "display_data"
    }
   ],
   "source": [
    "regr = Lasso(alpha=alpha_optim)\n",
    "regr.fit(X_train, y_train)\n",
    "print \"Coefficients of Lasso regression using the optimal regularization parameter: \\n\\n %s\" % regr.coef_\n",
    "\n",
    "# Plot top coefficients (defined as coefficients with absolute value greater than 1)\n",
    "df_coeffs = pd.DataFrame({'coeffs':regr.coef_, 'name':df.drop(['y'], 1).columns.values})\n",
    "df_coeffs = df_coeffs.sort(['coeffs'])\n",
    "df_coeffs = df_coeffs[(df_coeffs['coeffs']>1) |(df_coeffs['coeffs']<-1) ]\n",
    "df_coeffs.plot(x='name', y='coeffs', kind='bar')\n",
    "plt.title(\"Coefficients with absolute value > 1\")\n",
    "\n",
    "# Print the 10 largest positive and 10 largest negative coefficients\n",
    "sorted_coef = sorted(regr.coef_)\n",
    "print \"\\nTen largest positive coefficients: \\n\\n %s\" % sorted_coef[-10:]\n",
    "print \"\\nTen largest negative coefficients: \\n\\n %s\" % sorted_coef[:10]"
   ]
  },
  {
   "cell_type": "markdown",
   "metadata": {},
   "source": [
    "**Answer**\n",
    "\n",
    "Firstly, we note that we should indeed expect that some portion of the feature coefficients will be made small or exactly zero given the nature of the $L^1$ penalty term in the Lasso model. Geometrically, the constraint boundary of the $L^1$ norm which has sharp corners along the axes (and looks like a rotated square) is more likely to intercept the level sets of the $\\beta$ function at those sharp corners, leading to a \"zero-ing\" of coefficients. In the case of our data set, this means that the Lasso model error is minimized when many $\\beta$ level sets touch the sharp corners. \n",
    "\n",
    "Statistically, we use the Lasso method for both selection as well as estimation of feature coefficients; thus, the largest remaining coefficients (in absolute value terms) should point to the most important features. Said another way, many of the feature coefficients end up being \"zero-ed\" because they are not significant (i.e., they do not meaningfully reduce the model error for a given $\\lambda$ parameter). We note that the $\\lambda$ parameter determines the severity with which we penalize the coefficients. If we had picked a smaller $\\lambda$ (which would have not been optimal), we would have had fewer \"zero-ed\" coefficients."
   ]
  },
  {
   "cell_type": "markdown",
   "metadata": {},
   "source": [
    "f) Compute the $R^2$ with the optimal coefficient found above on 5 folds using cross_val_score and plot the\n",
    "results. Does the model work well on all random subsets?"
   ]
  },
  {
   "cell_type": "code",
   "execution_count": 30,
   "metadata": {
    "collapsed": false
   },
   "outputs": [
    {
     "name": "stdout",
     "output_type": "stream",
     "text": [
      "R^2 values for 5-fold cross-validation using the optimal regularization parameter: \n",
      " [ 0.88183768  0.84597037  0.89862428  0.87265331  0.84698289]\n"
     ]
    },
    {
     "data": {
      "image/png": "[encoded data removed]",
      "text/plain": [
       "<matplotlib.figure.Figure at 0x1165f3810>"
      ]
     },
     "metadata": {},
     "output_type": "display_data"
    }
   ],
   "source": [
    "y = df['y']\n",
    "X = df.drop(['y'], 1)\n",
    "\n",
    "# Run 5-fold cross-validation on the Lasso regression model with the optimal lambda from part d) \n",
    "cv_errors = cross_val_score(regr, X, y, cv=5)\n",
    "print \"R^2 values for 5-fold cross-validation using the optimal regularization parameter: \\n %s\" % cv_errors \n",
    "\n",
    "# Plot R^2 of 5-fold cross-validation\n",
    "plt.bar(range(1,6), cv_errors, align='center')\n",
    "plt.ylim([-1,1])\n",
    "plt.xlabel('$CV$')\n",
    "plt.ylabel('$R^2$')\n",
    "plt.title('Performance on 5-fold CV with $\\lambda$ =' + str(alpha_optim))\n",
    "plt.show()"
   ]
  },
  {
   "cell_type": "markdown",
   "metadata": {},
   "source": [
    "**Answer**\n",
    "\n",
    "Fitting the Lasso regression model with the optimal regularization parameter $\\lambda = 0.103396837027$ found in part d), we infer that the model does indeed do well on all random subsets. We note that the $R^2$ values across the $5$ folds are consistent as they do not vary much given that they range between $0.85$ and $0.90$."
   ]
  },
  {
   "cell_type": "markdown",
   "metadata": {},
   "source": [
    "f) Repeat e) but using cross validation. Use error bars on the features which are the standard deviation of the \n",
    "coefficiens obtained above. For this problem I\"ll walk you through the code. You just need to apply your optimal\n",
    "$\\alpha$ found above. "
   ]
  },
  {
   "cell_type": "code",
   "execution_count": 31,
   "metadata": {
    "collapsed": false
   },
   "outputs": [],
   "source": [
    "from sklearn.cross_validation import KFold\n",
    "from sklearn import preprocessing\n",
    "def run_cv_coeffs(X,y,clf_class,**kwargs):\n",
    "    # Construct a kfolds object\n",
    "    kf = KFold(len(y), n_folds=5, shuffle=True)\n",
    "    y_pred = y.copy()\n",
    "    coeffs = []\n",
    "    # Iterate through folds\n",
    "    for train_index, test_index in kf:\n",
    "        \n",
    "        X_train, X_test = X[train_index], X[test_index]\n",
    "        y_train = y[train_index]\n",
    "        # Initialize a classifier with key word arguments\n",
    "        clf = clf_class(**kwargs)\n",
    "        clf.fit(X_train, y_train)\n",
    "        y_pred[test_index] = clf.predict(X_test)\n",
    "        coeffs.append(clf.coef_)\n",
    "    return coeffs\n",
    "\n",
    "scaler = preprocessing.StandardScaler()\n",
    "X_scaled = X.as_matrix().astype(np.float)\n",
    "X_scaled = scaler.fit_transform(X)\n",
    "\n",
    "coeffs = run_cv_coeffs(X_scaled, np.array(y), Lasso, alpha=alpha_optim)"
   ]
  },
  {
   "cell_type": "code",
   "execution_count": 32,
   "metadata": {
    "collapsed": false
   },
   "outputs": [],
   "source": [
    "def get_coeffs(coeffs):\n",
    "    coeffs_avgd = [(coeffs[0][i] + coeffs[1][i] + coeffs[2][i] + coeffs[3][i] + coeffs[4][i])/5 for i in range(0,len(X.columns))]\n",
    "    coeffs_std = [np.std([coeffs[0][i],coeffs[1][i],coeffs[2][i],coeffs[3][i],coeffs[4][i]]) for i in range(0,len(X.columns))]\n",
    "    return coeffs_avgd, coeffs_std\n",
    "coeffs_avg,coeffs_std=get_coeffs(coeffs)"
   ]
  },
  {
   "cell_type": "code",
   "execution_count": 33,
   "metadata": {
    "collapsed": false
   },
   "outputs": [
    {
     "name": "stderr",
     "output_type": "stream",
     "text": [
      "/Users/Alex/Library/Enthought/Canopy_64bit/User/lib/python2.7/site-packages/ipykernel/__main__.py:4: FutureWarning: sort(columns=....) is deprecated, use sort_values(by=.....)\n"
     ]
    },
    {
     "data": {
      "text/plain": [
       "<matplotlib.axes._subplots.AxesSubplot at 0x1197a0b10>"
      ]
     },
     "execution_count": 33,
     "metadata": {},
     "output_type": "execute_result"
    },
    {
     "data": {
      "text/plain": [
       "<matplotlib.figure.Figure at 0x104cddd10>"
      ]
     },
     "metadata": {},
     "output_type": "display_data"
    },
    {
     "data": {
      "image/png": "[encoded data removed]",
      "text/plain": [
       "<matplotlib.figure.Figure at 0x10329a910>"
      ]
     },
     "metadata": {},
     "output_type": "display_data"
    }
   ],
   "source": [
    "dfCoeffs = pd.DataFrame({'type':X.columns.values, 'coef':coeffs_avg, 'std':coeffs_std})\n",
    "dfCoeffs = dfCoeffs[(dfCoeffs['coef']>1) |(dfCoeffs['coef']<-1) ]\n",
    "plt.figure(figsize=(15,15))\n",
    "dfCoeffs_sorted = dfCoeffs.sort(['coef'])[::-1]\n",
    "yerr_vals = dfCoeffs_sorted['std'].values\n",
    "dfCoeffs_sorted.plot(x='type',y='coef',kind='bar',yerr=yerr_vals,figsize=(15,15))"
   ]
  },
  {
   "cell_type": "code",
   "execution_count": null,
   "metadata": {
    "collapsed": true
   },
   "outputs": [],
   "source": []
  }
 ],
 "metadata": {
  "anaconda-cloud": {},
  "kernelspec": {
   "display_name": "Python 2",
   "language": "python",
   "name": "python2"
  },
  "language_info": {
   "codemirror_mode": {
    "name": "ipython",
    "version": 2
   },
   "file_extension": ".py",
   "mimetype": "text/x-python",
   "name": "python",
   "nbconvert_exporter": "python",
   "pygments_lexer": "ipython2",
   "version": "2.7.11"
  }
 },
 "nbformat": 4,
 "nbformat_minor": 1
}

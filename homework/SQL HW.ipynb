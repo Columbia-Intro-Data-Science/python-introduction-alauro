{
 "cells": [
  {
   "cell_type": "code",
   "execution_count": null,
   "metadata": {
    "collapsed": true
   },
   "outputs": [],
   "source": [
    "\"\"\"\n",
    "/* Problem 1: Give a count of all videos currently out. */\n",
    "\n",
    "SELECT count(*) as \"Videos Currently Out\"\n",
    "FROM rental\n",
    "WHERE return_date is NULL;\n",
    "\n",
    "\n",
    "/* Problem 2: Make a list of all customer names who have videos out and how much they owe.\n",
    "\n",
    "Note: I have assumed here that payment.amount is what is owed. Thus, the below query displays the sum of the payment.amount (i.e., amounts owed) by customer. */\n",
    "\n",
    "SELECT CONCAT(customer.first_name,' ', customer.last_name) AS \"Customer\", SUM(payment.amount) AS \"Total Owed\"\n",
    "FROM payment\n",
    "INNER JOIN customer \n",
    "ON payment.customer_id = customer.customer_id\n",
    "INNER JOIN rental \n",
    "ON payment.customer_id = rental.customer_id\n",
    "WHERE return_date IS NULL\n",
    "GROUP BY customer.last_name, customer.first_name\n",
    "ORDER BY \"Total Owed\" DESC;\n",
    "\n",
    "\n",
    "/* Problem 3: Give the most popular actors by store location. */\n",
    "\n",
    "(SELECT distinct on (inventory.store_id) inventory.store_id, CONCAT(actor.first_name, ' ', actor.last_name) AS Actor, COUNT(rental.rental_id)\n",
    "FROM inventory\n",
    "    INNER JOIN film_actor \n",
    "        ON film_actor.film_id = inventory.film_id\n",
    "    INNER JOIN rental \n",
    "        ON rental.inventory_id = inventory.inventory_id\n",
    "    INNER JOIN actor\n",
    "        ON actor.actor_id = film_actor.actor_id\n",
    "GROUP BY inventory.store_id, Actor\n",
    "ORDER BY inventory.store_id, COUNT(actor.actor_id) DESC \n",
    ")\n",
    "\n",
    "\n",
    "/* Problem 4: Using a $1 per day late fee, find out which users owe the most assuming all rentals are a week long\n",
    "\n",
    "Note: The late fee is calculated by finding all the rentals that have not been returned (by individual customer) and charging a $1 per day late fee beginning one week after the rental. Because the rental dates for all non-returned videos are all the same, the late fee amounts are the same across all customers. */\n",
    "\n",
    "SELECT rental.customer_id,  CONCAT(customer.first_name, ' ', customer.last_name) AS \"Customer Name\", CONCAT('$ ', ((DATE(NOW()) - DATE(rental.rental_date)) - 7)) AS \"Late Fee\"\n",
    "FROM rental\n",
    "INNER JOIN customer\n",
    "ON customer.customer_id = rental.customer_id\n",
    "WHERE return_date is NULL\n",
    "GROUP BY rental.customer_id, \"Customer Name\", rental.rental_date\n",
    "LIMIT 10\n",
    "\"\"\""
   ]
  }
 ],
 "metadata": {
  "kernelspec": {
   "display_name": "Python 2",
   "language": "python",
   "name": "python2"
  },
  "language_info": {
   "codemirror_mode": {
    "name": "ipython",
    "version": 2
   },
   "file_extension": ".py",
   "mimetype": "text/x-python",
   "name": "python",
   "nbconvert_exporter": "python",
   "pygments_lexer": "ipython2",
   "version": "2.7.11"
  }
 },
 "nbformat": 4,
 "nbformat_minor": 0
}
